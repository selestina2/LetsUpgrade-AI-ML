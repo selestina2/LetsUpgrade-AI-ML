{
 "cells": [
  {
   "cell_type": "markdown",
   "metadata": {},
   "source": [
    "1.Research on whether addition, subtraction, multiplication, division, floor division, and modulo operations\n",
    "be performed on complex numbers. Based on your study, implement a Python program to demonstrate\n",
    "these operations."
   ]
  },
  {
   "cell_type": "code",
   "execution_count": 2,
   "metadata": {},
   "outputs": [
    {
     "name": "stdout",
     "output_type": "stream",
     "text": [
      "(9+6j)\n",
      "(-1+0j)\n",
      "(11+27j)\n",
      "(0.8529411764705882+0.08823529411764708j)\n"
     ]
    }
   ],
   "source": [
    "compNo1= 4+3j\n",
    "compNo2=5+3j\n",
    "add=compNo1+compNo2\n",
    "sub=compNo1-compNo2\n",
    "mul=compNo1*compNo2\n",
    "div=compNo1/compNo2\n",
    "#floordiv=compNo1//compNo2 (Giving Error)\n",
    "# mod=compNo1%compNo2 (Giving Error)\n",
    "print (add)\n",
    "print (sub)\n",
    "print (mul)\n",
    "print (div)\n",
    "#print (floordiv)\n",
    "#print (mod)"
   ]
  },
  {
   "cell_type": "markdown",
   "metadata": {},
   "source": [
    "2.Research on range() functions and its parameters. Create a markdown cell and write in your own words\n",
    "(no copy-paste from google please) what you understand about it. Implement a small program of your\n",
    "choice on the same."
   ]
  },
  {
   "cell_type": "markdown",
   "metadata": {},
   "source": [
    "range() is built in function which is used in for & while loops.\n",
    "It takes 3 arguments, start,stop & step size. It consumes less amount of memory when we compare with list & tuples.\n",
    "It returns alist or sequence of numbers."
   ]
  },
  {
   "cell_type": "markdown",
   "metadata": {},
   "source": [
    "3.Consider two numbers. Perform their subtraction and if the result of subtraction is greater than 25, print\n",
    "their multiplication result else print their division result."
   ]
  },
  {
   "cell_type": "code",
   "execution_count": 11,
   "metadata": {},
   "outputs": [
    {
     "name": "stdout",
     "output_type": "stream",
     "text": [
      "result is  5000\n"
     ]
    }
   ],
   "source": [
    "a=100\n",
    "b=50\n",
    "c=a-b\n",
    "if c>25:\n",
    "    print('Result is ',a*b)\n",
    "else:\n",
    "    print('Result is',a/b)\n"
   ]
  },
  {
   "cell_type": "markdown",
   "metadata": {},
   "source": [
    "4.Consider a list of 10 elements of integer values. If the number in the list is divisible by 2, print the result as\n",
    "\"square of that number minus 2\"."
   ]
  },
  {
   "cell_type": "code",
   "execution_count": 15,
   "metadata": {},
   "outputs": [
    {
     "name": "stdout",
     "output_type": "stream",
     "text": [
      "res= 34\n",
      "res= 2\n",
      "nothing\n",
      "res= 14\n",
      "nothing\n",
      "nothing\n",
      "nothing\n",
      "res= 142\n",
      "nothing\n",
      "nothing\n"
     ]
    }
   ],
   "source": [
    "l=[6,2,3,4,1,5,3,12,7,9]\n",
    "for i in range(0,len(l)):\n",
    "    if l[i]%2!=0:\n",
    "        print(\"nothing\")\n",
    "        \n",
    "    else:\n",
    "        print (\"res=\",l[i]*l[i]-2)"
   ]
  },
  {
   "cell_type": "markdown",
   "metadata": {},
   "source": [
    "5.Consider a list of 10 elements. Print all the elements in the list which are greater than 7 when that number\n",
    "is divided 2."
   ]
  },
  {
   "cell_type": "code",
   "execution_count": 19,
   "metadata": {},
   "outputs": [
    {
     "name": "stdout",
     "output_type": "stream",
     "text": [
      "res nothing\n",
      "res nothing\n",
      "res nothing\n",
      "res nothing\n",
      "res nothing\n",
      "res nothing\n",
      "res nothing\n",
      "res 12\n",
      "res nothing\n",
      "res nothing\n"
     ]
    }
   ],
   "source": [
    "l=[6,2,3,4,1,5,3,12,7,9]\n",
    "for i in range(0,len(l)):\n",
    "    if l[i]>7 and l[i]%2==0 :\n",
    "        print(\"res\",l[i])\n",
    "        \n",
    "    else:\n",
    "        print (\"res nothing\")"
   ]
  }
 ],
 "metadata": {
  "kernelspec": {
   "display_name": "Python 3",
   "language": "python",
   "name": "python3"
  },
  "language_info": {
   "codemirror_mode": {
    "name": "ipython",
    "version": 3
   },
   "file_extension": ".py",
   "mimetype": "text/x-python",
   "name": "python",
   "nbconvert_exporter": "python",
   "pygments_lexer": "ipython3",
   "version": "3.7.4"
  }
 },
 "nbformat": 4,
 "nbformat_minor": 2
}
