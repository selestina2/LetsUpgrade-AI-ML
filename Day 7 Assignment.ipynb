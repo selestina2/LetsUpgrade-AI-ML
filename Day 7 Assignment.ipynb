{
 "cells": [
  {
   "cell_type": "markdown",
   "metadata": {},
   "source": [
    "1. Write a program to copy the contents of one file to another using a for loop. (Don’t use built-in copy function)"
   ]
  },
  {
   "cell_type": "code",
   "execution_count": 24,
   "metadata": {},
   "outputs": [],
   "source": [
    "# If not exist create a file t1.txt,\n",
    "f=open(\"t1.txt\",'w')\n",
    "# write inside txt file\n",
    "f.write(\"Hello, Lets Upgrade\")\n",
    "# open the file in read format\n",
    "f=open(\"t1.txt\",'r')\n",
    "# create a new file t2.txt\n",
    "f1=open(\"t2.txt\",'w')\n",
    "#Assign the content to text\n",
    "text=f.readline()\n",
    "\n",
    "# With the help of for loop traverse through each line of content\n",
    "for i in range(0,len(text)):\n",
    "    f1.write(text[i])\n",
    "# for  testing purpose  \n",
    "# f1=open(\"t2.txt\",'r')\n",
    "# f1.readline()\n",
    "f1.close()\n",
    "f.close()"
   ]
  },
  {
   "cell_type": "markdown",
   "metadata": {},
   "source": [
    "2. Write a Python program to find maximum and minimum values in the dictionary. Do not use built-in min and max functions."
   ]
  },
  {
   "cell_type": "code",
   "execution_count": 19,
   "metadata": {},
   "outputs": [
    {
     "name": "stdout",
     "output_type": "stream",
     "text": [
      "{'a': 70, 'b': 60, 'c': 40}\n",
      "Minimum value is 40\n",
      "\n",
      "Maximum value is 70\n"
     ]
    }
   ],
   "source": [
    "# Declaring the dictonary \n",
    "d = {'a':70,'b':60,'c':40}\n",
    "print(d)\n",
    "values_of_d=list(d.values())\n",
    "# Arranging in list in ascending order\n",
    "values_of_d.sort()\n",
    "\n",
    "# printing the O/p\n",
    "print('Minimum value is %s\\n\\nMaximum value is %s'% (values_of_d[0],values_of_d[-1]))"
   ]
  },
  {
   "cell_type": "code",
   "execution_count": null,
   "metadata": {},
   "outputs": [],
   "source": []
  }
 ],
 "metadata": {
  "kernelspec": {
   "display_name": "Python 3",
   "language": "python",
   "name": "python3"
  },
  "language_info": {
   "codemirror_mode": {
    "name": "ipython",
    "version": 3
   },
   "file_extension": ".py",
   "mimetype": "text/x-python",
   "name": "python",
   "nbconvert_exporter": "python",
   "pygments_lexer": "ipython3",
   "version": "3.7.4"
  }
 },
 "nbformat": 4,
 "nbformat_minor": 2
}
