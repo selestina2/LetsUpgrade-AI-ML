{
 "cells": [
  {
   "cell_type": "markdown",
   "metadata": {},
   "source": [
    "1. Write a Python program to find the first 20 non-even prime natural numbers."
   ]
  },
  {
   "cell_type": "code",
   "execution_count": 10,
   "metadata": {},
   "outputs": [
    {
     "name": "stdout",
     "output_type": "stream",
     "text": [
      "3\n",
      "5\n",
      "7\n",
      "11\n",
      "13\n",
      "17\n",
      "19\n"
     ]
    }
   ],
   "source": [
    "start=3\n",
    "end=20\n",
    "for i in range(start,end): \n",
    "    for j in range(2,i): \n",
    "        if(i % j==0): \n",
    "            break\n",
    "    else: \n",
    "        print(i) "
   ]
  },
  {
   "cell_type": "markdown",
   "metadata": {},
   "source": [
    "2. Write a Python program to implement 15 functions of string."
   ]
  },
  {
   "cell_type": "code",
   "execution_count": 24,
   "metadata": {},
   "outputs": [
    {
     "name": "stdout",
     "output_type": "stream",
     "text": [
      "True\n",
      "Hello.\n",
      "hello, and welcome to my world!\n",
      "2\n",
      "7\n",
      "True\n",
      "True\n",
      "of all fruits banana      is my favorite\n",
      "('I could eat ', 'bananas', ' all day')\n",
      "I like apples\n",
      "['apple', 'banana', 'cherry']\n",
      "of all fruits      banana is my favorite\n",
      "['Thank you for the music', 'Welcome to the jungle']\n",
      "hELLO mY nAME iS peter\n",
      "of all fruits banana is my favorite\n"
     ]
    }
   ],
   "source": [
    "# 1. endswith() \n",
    "txt = \"Hello.\"\n",
    "x = txt.endswith(\".\")\n",
    "print(x)\n",
    "\n",
    "#2. capitalize() --Converts the first character to upper case\n",
    "txt = \"hello.\"\n",
    "x = txt.capitalize()\n",
    "print(x)\n",
    "\n",
    "#3. casefold() & lower () both are same--Converts string into lower case\n",
    "txt = \"Hello, And Welcome To My World!\"\n",
    "x = txt.casefold()\n",
    "print(x)\n",
    "\n",
    "#4.count()--Returns the number of times a specified value occurs in a string\n",
    "txt = \"I love apples, apple are my favorite fruit\"\n",
    "x = txt.count(\"apple\")\n",
    "print(x)\n",
    "\n",
    "#5. index()--Searches the string for a specified value and returns the position of where it was found\n",
    "txt = \"Hello, welcome to my world.\"\n",
    "x = txt.index(\"welcome\")\n",
    "print(x)\n",
    "\n",
    "#6. isnumeric()\tReturns True if all characters in the string are numeric\n",
    "txt = \"565543\"\n",
    "x = txt.isnumeric()\n",
    "print(x)\n",
    "\n",
    "#7.isalnum()--Returns True if all characters in the string are alphanumeric\n",
    "txt = \"Company12\"\n",
    "x = txt.isalnum()\n",
    "print(x)\n",
    "\n",
    "#8. lstrip()--Returns a left trim version of the string\n",
    "txt = \"     banana     \"\n",
    "x = txt.lstrip()\n",
    "print(\"of all fruits\", x, \"is my favorite\")\n",
    "\n",
    "#9.partition()--Returns a tuple where the string is parted into three parts\n",
    "txt = \"I could eat bananas all day\"\n",
    "x = txt.partition(\"bananas\")\n",
    "print(x)\n",
    "\n",
    "#10. Returns a string where a specified value is replaced with a specified value\n",
    "txt = \"I like bananas\"\n",
    "x = txt.replace(\"bananas\", \"apples\")\n",
    "print(x)\n",
    "\n",
    "#11. rsplit()--Splits the string at the specified separator, and returns a list\n",
    "txt = \"apple, banana, cherry\"\n",
    "x = txt.rsplit(\", \")\n",
    "print(x)\n",
    "\n",
    "#12. rstrip()--Returns a right trim version of the string\n",
    "txt = \"     banana     \"\n",
    "x = txt.rstrip()\n",
    "print(\"of all fruits\", x, \"is my favorite\")\n",
    "\n",
    "#13.splitlines()--Splits the string at line breaks and returns a list\n",
    "txt = \"Thank you for the music\\nWelcome to the jungle\"\n",
    "x = txt.splitlines()\n",
    "print(x)\n",
    "\n",
    "#14. swapcase()--Swaps cases, lower case becomes upper case and vice versa\n",
    "txt = \"Hello My Name Is PETER\"\n",
    "x = txt.swapcase()\n",
    "print(x)\n",
    "\n",
    "#15. strip()--Returns a trimmed version of the string\n",
    "txt = \"     banana     \"\n",
    "x = txt.strip()\n",
    "print(\"of all fruits\", x, \"is my favorite\")"
   ]
  },
  {
   "cell_type": "markdown",
   "metadata": {},
   "source": [
    "3. Write a Python program to check if the given string is a Palindrome or Anagram or None of them. Display the message accordingly to the user."
   ]
  },
  {
   "cell_type": "code",
   "execution_count": 3,
   "metadata": {},
   "outputs": [
    {
     "name": "stdout",
     "output_type": "stream",
     "text": [
      "Enter a string: raw\n",
      "No\n"
     ]
    }
   ],
   "source": [
    "x = input(\"Enter a string: \")\n",
    "w = \"\"\n",
    "for i in x:\n",
    "    w = i + w\n",
    "if (x == w):\n",
    "    print(\"Yes string is pallindrome\")\n",
    "else:\n",
    "    print(\"No string in not pallindom\")"
   ]
  },
  {
   "cell_type": "code",
   "execution_count": 4,
   "metadata": {},
   "outputs": [
    {
     "name": "stdout",
     "output_type": "stream",
     "text": [
      "string 1 : abcd\n",
      "string 2 : dabc\n",
      "Given strings are Anagrams\n"
     ]
    }
   ],
   "source": [
    "str1 = input  (\"string 1 : \")\n",
    "str2 = input  (\"string 2 : \")\n",
    "sorted_str1 = sorted(str1)\n",
    "sorted_str2 = sorted(str2)\n",
    "\n",
    "if sorted_str1 == sorted_str2:\n",
    "     print (\"Given strings are Anagrams\")\n",
    "else:\n",
    "     print (\"Given strings are not Anagrams\")"
   ]
  },
  {
   "cell_type": "markdown",
   "metadata": {},
   "source": [
    "4. Write a Python's user-defined function that removes all the additional characters from the string and convert it finally to lower case using built-in lower(). eg: If the string is \"Dr. Darshan Ingle @AIML Trainer\",then the output be \"drdarshaningleaimltrainer\"."
   ]
  },
  {
   "cell_type": "code",
   "execution_count": 9,
   "metadata": {},
   "outputs": [
    {
     "name": "stdout",
     "output_type": "stream",
     "text": [
      "drdarshaningleaimltrainer\n"
     ]
    }
   ],
   "source": [
    "\n",
    "def removespecialcharacter(strf):\n",
    "    str1=str.replace(\".\",\"\")\n",
    "    str2=str1.replace(\" \",\"\")\n",
    "    str3=str2.replace(\"@\",\"\")\n",
    "    str4=str3.lower()\n",
    "    print(str4)\n",
    "\n",
    "str=\"Dr. Darshan Ingle @AIML Trainer\"\n",
    "removespecialcharacter(str)"
   ]
  },
  {
   "cell_type": "code",
   "execution_count": null,
   "metadata": {},
   "outputs": [],
   "source": []
  }
 ],
 "metadata": {
  "kernelspec": {
   "display_name": "Python 3",
   "language": "python",
   "name": "python3"
  },
  "language_info": {
   "codemirror_mode": {
    "name": "ipython",
    "version": 3
   },
   "file_extension": ".py",
   "mimetype": "text/x-python",
   "name": "python",
   "nbconvert_exporter": "python",
   "pygments_lexer": "ipython3",
   "version": "3.7.4"
  }
 },
 "nbformat": 4,
 "nbformat_minor": 2
}
