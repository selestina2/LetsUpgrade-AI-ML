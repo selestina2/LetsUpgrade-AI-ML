{
 "cells": [
  {
   "cell_type": "markdown",
   "metadata": {},
   "source": [
    "1.Program to substract 2 complex numbers"
   ]
  },
  {
   "cell_type": "code",
   "execution_count": 18,
   "metadata": {},
   "outputs": [
    {
     "name": "stdout",
     "output_type": "stream",
     "text": [
      "(-1+0j)\n"
     ]
    }
   ],
   "source": [
    "compNo1= 4+3j\n",
    "compNo2=5+3j\n",
    "sub=compNo1-compNo2\n",
    "print (sub)"
   ]
  },
  {
   "cell_type": "markdown",
   "metadata": {},
   "source": [
    "2.Write a program to find the fourth root of a number."
   ]
  },
  {
   "cell_type": "code",
   "execution_count": 4,
   "metadata": {},
   "outputs": [
    {
     "name": "stdout",
     "output_type": "stream",
     "text": [
      "2.0\n"
     ]
    }
   ],
   "source": [
    "num=16\n",
    "root=16**(0.25)\n",
    "print(root)"
   ]
  },
  {
   "cell_type": "markdown",
   "metadata": {},
   "source": [
    "3.Write a program to swap two numbers in Python with the help of a temporary variable."
   ]
  },
  {
   "cell_type": "code",
   "execution_count": 10,
   "metadata": {},
   "outputs": [
    {
     "name": "stdout",
     "output_type": "stream",
     "text": [
      "a  is 5 and b is 3\n",
      "After swapping a  is 3 and b is 5\n"
     ]
    }
   ],
   "source": [
    "a=5\n",
    "b=3\n",
    "print ('a  is',a, 'and b is',b)\n",
    "temp=a\n",
    "a=b\n",
    "b=temp\n",
    "print ('After swapping a  is',a, 'and b is',b)\n"
   ]
  },
  {
   "cell_type": "markdown",
   "metadata": {},
   "source": [
    "4.Write a program to swap two numbers in Python without using a temporary variable."
   ]
  },
  {
   "cell_type": "code",
   "execution_count": 11,
   "metadata": {},
   "outputs": [
    {
     "name": "stdout",
     "output_type": "stream",
     "text": [
      "a  is 5 and b is 3\n",
      "After swapping a  is 3 and b is 5\n"
     ]
    }
   ],
   "source": [
    "a=5\n",
    "b=3\n",
    "print ('a  is',a, 'and b is',b)\n",
    "a=a+b\n",
    "b=a-b\n",
    "a=a-b\n",
    "print ('After swapping a  is',a, 'and b is',b)"
   ]
  },
  {
   "cell_type": "markdown",
   "metadata": {},
   "source": [
    "5.Write a program to convert Fahrenheit to kelvin and celsius both."
   ]
  },
  {
   "cell_type": "code",
   "execution_count": 13,
   "metadata": {},
   "outputs": [
    {
     "name": "stdout",
     "output_type": "stream",
     "text": [
      "112  F Celcius is  44.44444444444444  and kelvin is  317.59444444444443\n"
     ]
    }
   ],
   "source": [
    "farenheit=112\n",
    "celcius=(farenheit-32)*5/9\n",
    "kelvin=((farenheit-32) * 5/9) + 273.15 \n",
    "print (farenheit ,' F Celcius is ',celcius,' and kelvin is ',kelvin)"
   ]
  },
  {
   "cell_type": "markdown",
   "metadata": {},
   "source": [
    "6. Write a program to demonstrate all the available data types in Python. Hint: Use type() function."
   ]
  },
  {
   "cell_type": "code",
   "execution_count": 29,
   "metadata": {},
   "outputs": [
    {
     "name": "stdout",
     "output_type": "stream",
     "text": [
      "<class 'int'>\n",
      "<class 'float'>\n",
      "<class 'complex'>\n",
      "<class 'str'>\n",
      "<class 'list'>\n",
      "<class 'tuple'>\n",
      "<class 'bool'>\n"
     ]
    }
   ],
   "source": [
    "a=5\n",
    "print (type(a))\n",
    "b=5.0\n",
    "print(type(b))\n",
    "c=5+6j\n",
    "print(type(c))\n",
    "s='Welcome'\n",
    "print(type(s))\n",
    "l=[1,2,3,4]\n",
    "print(type(l))\n",
    "t=(1,2,3,4)\n",
    "print(type(t))\n",
    "print(type(True))\n"
   ]
  }
 ],
 "metadata": {
  "kernelspec": {
   "display_name": "Python 3",
   "language": "python",
   "name": "python3"
  },
  "language_info": {
   "codemirror_mode": {
    "name": "ipython",
    "version": 3
   },
   "file_extension": ".py",
   "mimetype": "text/x-python",
   "name": "python",
   "nbconvert_exporter": "python",
   "pygments_lexer": "ipython3",
   "version": "3.7.4"
  }
 },
 "nbformat": 4,
 "nbformat_minor": 2
}
